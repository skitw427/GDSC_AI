{
  "nbformat": 4,
  "nbformat_minor": 0,
  "metadata": {
    "colab": {
      "provenance": []
    },
    "kernelspec": {
      "name": "python3",
      "display_name": "Python 3"
    },
    "language_info": {
      "name": "python"
    }
  },
  "cells": [
    {
      "cell_type": "code",
      "execution_count": 32,
      "metadata": {
        "id": "C1XhHfW5dcmO"
      },
      "outputs": [],
      "source": [
        "#timer\n",
        "import time\n",
        "\n",
        "def timer(func) :\n",
        "  def wrapper(*args, **kwargs) :\n",
        "    start_time = time.time()\n",
        "    result = func(*args, **kwargs)\n",
        "    end_time = time.time()\n",
        "    computation_time = end_time - start_time\n",
        "    print(f\"Execution time of {func.__name__}:{computation_time} seconds\")\n",
        "    return result\n",
        "  return wrapper"
      ]
    },
    {
      "cell_type": "code",
      "source": [
        "import numpy as np\n",
        "\n",
        "true_b = 1\n",
        "true_w = 2\n",
        "N = 100\n",
        "\n",
        "np.random.seed(42)\n",
        "x = np.random.rand(N,1)\n",
        "epsilon = 0.1 * np.random.randn(N, 1)\n",
        "y = true_b + true_w * x + epsilon"
      ],
      "metadata": {
        "id": "hYXahtnFecrs"
      },
      "execution_count": 33,
      "outputs": []
    },
    {
      "cell_type": "code",
      "source": [
        "N = 100\n",
        "\n",
        "idx = np.arange(N)\n",
        "split_idx = int(N * 0.8)\n",
        "\n",
        "train_idx = idx[:split_idx]\n",
        "val_idx = idx[split_idx:]\n",
        "\n",
        "x_train, y_train = x[train_idx], y[train_idx]\n",
        "x_val, y_val = x[val_idx], y[val_idx]"
      ],
      "metadata": {
        "id": "hG5EAhRqeLkz"
      },
      "execution_count": 34,
      "outputs": []
    },
    {
      "cell_type": "code",
      "source": [
        "import torch"
      ],
      "metadata": {
        "id": "FV7cwhoXeAyL"
      },
      "execution_count": 35,
      "outputs": []
    },
    {
      "cell_type": "code",
      "source": [
        "device = 'cuda' if torch.cuda.is_available() else 'cpu'\n",
        "print(device)\n",
        "x_train_tensor = torch.as_tensor(x_train).to(device)\n",
        "y_train_tensor = torch.as_tensor(y_train).to(device)\n",
        "x_val_tensor = torch.as_tensor(x_val).to(device)\n",
        "y_val_tensor = torch.as_tensor(y_val).to(device)"
      ],
      "metadata": {
        "colab": {
          "base_uri": "https://localhost:8080/"
        },
        "id": "4E-iH9KteGc9",
        "outputId": "9ca9eae1-a74e-400f-b125-337758304911"
      },
      "execution_count": 36,
      "outputs": [
        {
          "output_type": "stream",
          "name": "stdout",
          "text": [
            "cpu\n"
          ]
        }
      ]
    },
    {
      "cell_type": "code",
      "source": [
        "from torch import nn, optim\n",
        "\n",
        "@timer\n",
        "def train_model_torch_optim(lr = 0.1, epochs = 1000) :\n",
        "  b = torch.randn(1, requires_grad=True, dtype=torch.float, device=device)\n",
        "  w = torch.randn(1, requires_grad=True, dtype=torch.float, device=device)\n",
        "\n",
        "  parameter = [b, w]\n",
        "  optimizer = optim.SGD(parameter, lr=lr)\n",
        "  mse_loss = nn.MSELoss()\n",
        "\n",
        "  for epoch in range(epochs) :\n",
        "    # Loss computation\n",
        "    y_hat = b + w * x_train_tensor\n",
        "    loss = mse_loss(y_hat, y_train_tensor)\n",
        "\n",
        "    loss.backward()\n",
        "    optimizer.step()\n",
        "    optimizer.zero_grad()\n",
        "  return w, b"
      ],
      "metadata": {
        "id": "uYAvvzzYdqia"
      },
      "execution_count": 37,
      "outputs": []
    },
    {
      "cell_type": "code",
      "source": [
        "train_w, train_b = train_model_torch_optim()\n",
        "train_w, train_b"
      ],
      "metadata": {
        "colab": {
          "base_uri": "https://localhost:8080/"
        },
        "id": "qPM_N8iEemE-",
        "outputId": "3b691787-b4a9-4dc3-934d-3288d7205dbc"
      },
      "execution_count": 38,
      "outputs": [
        {
          "output_type": "stream",
          "name": "stdout",
          "text": [
            "Execution time of train_model_torch_optim:0.25223493576049805 seconds\n"
          ]
        },
        {
          "output_type": "execute_result",
          "data": {
            "text/plain": [
              "(tensor([1.9368], requires_grad=True), tensor([1.0234], requires_grad=True))"
            ]
          },
          "metadata": {},
          "execution_count": 38
        }
      ]
    },
    {
      "cell_type": "code",
      "source": [
        "mse_loss = nn.MSELoss()\n",
        "y_hat = train_b + train_w * x_val_tensor\n",
        "loss = mse_loss(y_hat, y_val_tensor)\n",
        "\n",
        "print('MSELoss =',loss)"
      ],
      "metadata": {
        "colab": {
          "base_uri": "https://localhost:8080/"
        },
        "id": "Qkp1BgsVe8_e",
        "outputId": "a54718d7-6da6-4c55-ef95-f3fbec1f47be"
      },
      "execution_count": 39,
      "outputs": [
        {
          "output_type": "stream",
          "name": "stdout",
          "text": [
            "MSELoss = tensor(0.0098, dtype=torch.float64, grad_fn=<MseLossBackward0>)\n"
          ]
        }
      ]
    }
  ]
}
