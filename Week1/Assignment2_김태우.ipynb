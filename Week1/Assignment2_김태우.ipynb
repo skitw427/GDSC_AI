{
  "nbformat": 4,
  "nbformat_minor": 0,
  "metadata": {
    "colab": {
      "provenance": [],
      "gpuType": "T4"
    },
    "kernelspec": {
      "name": "python3",
      "display_name": "Python 3"
    },
    "language_info": {
      "name": "python"
    },
    "accelerator": "GPU"
  },
  "cells": [
    {
      "cell_type": "code",
      "source": [
        "#timer\n",
        "import time\n",
        "\n",
        "def timer(func) :\n",
        "  def wrapper(*args, **kwargs) :\n",
        "    start_time = time.time()\n",
        "    result = func(*args, **kwargs)\n",
        "    end_time = time.time()\n",
        "    computation_time = end_time - start_time\n",
        "    print(f\"Execution time of {func.__name__}:{computation_time} seconds\")\n",
        "    return result\n",
        "  return wrapper"
      ],
      "metadata": {
        "id": "FJhuVg-sgeeg"
      },
      "execution_count": 11,
      "outputs": []
    },
    {
      "cell_type": "code",
      "execution_count": 12,
      "metadata": {
        "colab": {
          "base_uri": "https://localhost:8080/"
        },
        "id": "dDD5VQzJfe_7",
        "outputId": "ee784e60-d7d1-4741-97e2-d826a2bf3812"
      },
      "outputs": [
        {
          "output_type": "stream",
          "name": "stdout",
          "text": [
            "cuda\n"
          ]
        }
      ],
      "source": [
        "import pickle\n",
        "import torch\n",
        "\n",
        "with open('/content/sample_data/quiz_data.pkl', 'rb') as f :\n",
        "  data = pickle.load(f)\n",
        "\n",
        "  x = data[\"x\"]\n",
        "  y = data[\"y\"]\n",
        "\n",
        "N = len(x)\n",
        "idx = torch.arange(N)\n",
        "split_idx = int(N * 0.8)\n",
        "train_idx = idx[:split_idx]\n",
        "val_idx = idx[split_idx:]\n",
        "device = 'cuda' if torch.cuda.is_available() else 'cpu'\n",
        "print(device)\n",
        "x_train_tensor = torch.as_tensor(x[train_idx]).to(device)\n",
        "y_train_tensor = torch.as_tensor(y[train_idx]).to(device)\n",
        "x_val_tensor = torch.as_tensor(x[val_idx]).to(device)\n",
        "y_val_tensor = torch.as_tensor(y[val_idx]).to(device)"
      ]
    },
    {
      "cell_type": "code",
      "source": [
        "from torch import nn, optim\n",
        "\n",
        "@timer\n",
        "def train_model_torch_optim(lr = 0.638, epochs = 900) :\n",
        "  b = torch.randn(1, requires_grad=True, dtype=torch.float, device=device)\n",
        "  w1 = torch.randn(1, requires_grad=True, dtype=torch.float, device=device)\n",
        "  w2 = torch.randn(1, requires_grad=True, dtype=torch.float, device=device)\n",
        "  w3 = torch.randn(1, requires_grad=True, dtype=torch.float, device=device)\n",
        "  w4 = torch.randn(1, requires_grad=True, dtype=torch.float, device=device)\n",
        "  w5 = torch.randn(1, requires_grad=True, dtype=torch.float, device=device)\n",
        "\n",
        "  parameter = [b, w1, w2, w3, w4, w5]\n",
        "  optimizer = optim.SGD(parameter, lr=lr)\n",
        "  mse_loss = nn.MSELoss()\n",
        "\n",
        "  for epoch in range(epochs) :\n",
        "    y_hat = b + w1 * x_train_tensor + w2 * x_train_tensor ** 2 + w3 * x_train_tensor ** 3 + w4 * x_train_tensor ** 4 + w5 * x_train_tensor ** 5\n",
        "    loss = mse_loss(y_hat, y_train_tensor)\n",
        "    loss.backward()\n",
        "    optimizer.step()\n",
        "    optimizer.zero_grad()\n",
        "  return w1, w2, w3, w4, w5, b"
      ],
      "metadata": {
        "id": "dpppfB59f9a0"
      },
      "execution_count": 13,
      "outputs": []
    },
    {
      "cell_type": "code",
      "source": [
        "total = 0\n",
        "r = 10\n",
        "for i in range(r) :\n",
        "  train_w1, train_w2, train_w3, train_w4, train_w5, train_b = train_model_torch_optim()\n",
        "  mse_loss = nn.MSELoss()\n",
        "  y_hat = train_b + train_w1 * x_val_tensor + train_w2 * x_val_tensor ** 2 + train_w3 * x_val_tensor ** 3 + train_w4 * x_val_tensor ** 4 + train_w5 * x_val_tensor ** 5\n",
        "  loss = mse_loss(y_hat, y_val_tensor)\n",
        "  total += loss\n",
        "\n",
        "loss_mean = total / r\n",
        "\n",
        "print('loss_mean =',loss_mean)"
      ],
      "metadata": {
        "colab": {
          "base_uri": "https://localhost:8080/"
        },
        "id": "qSKyaP5sgFdo",
        "outputId": "0416622e-f708-4f6b-a87a-14d36b6b6318"
      },
      "execution_count": 14,
      "outputs": [
        {
          "output_type": "stream",
          "name": "stdout",
          "text": [
            "Execution time of train_model_torch_optim:0.8477425575256348 seconds\n",
            "Execution time of train_model_torch_optim:0.8215658664703369 seconds\n",
            "Execution time of train_model_torch_optim:0.7871708869934082 seconds\n",
            "Execution time of train_model_torch_optim:0.8625271320343018 seconds\n",
            "Execution time of train_model_torch_optim:0.9050400257110596 seconds\n",
            "Execution time of train_model_torch_optim:0.9289665222167969 seconds\n",
            "Execution time of train_model_torch_optim:0.7733724117279053 seconds\n",
            "Execution time of train_model_torch_optim:0.7941205501556396 seconds\n",
            "Execution time of train_model_torch_optim:0.7595791816711426 seconds\n",
            "Execution time of train_model_torch_optim:0.8042316436767578 seconds\n",
            "loss_mean = tensor(0.0466, device='cuda:0', dtype=torch.float64, grad_fn=<DivBackward0>)\n"
          ]
        }
      ]
    }
  ]
}
